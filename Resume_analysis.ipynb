{
 "cells": [
  {
   "cell_type": "code",
   "execution_count": 1,
   "id": "f6064f94",
   "metadata": {},
   "outputs": [
    {
     "name": "stdout",
     "output_type": "stream",
     "text": [
      "Requirement already satisfied: spacy in c:\\users\\saisujith kandagatla\\anaconda3\\lib\\site-packages (3.2.4)\n",
      "Requirement already satisfied: requests<3.0.0,>=2.13.0 in c:\\users\\saisujith kandagatla\\anaconda3\\lib\\site-packages (from spacy) (2.25.1)\n",
      "Requirement already satisfied: setuptools in c:\\users\\saisujith kandagatla\\anaconda3\\lib\\site-packages (from spacy) (52.0.0.post20210125)\n",
      "Requirement already satisfied: srsly<3.0.0,>=2.4.1 in c:\\users\\saisujith kandagatla\\anaconda3\\lib\\site-packages (from spacy) (2.4.2)\n",
      "Requirement already satisfied: langcodes<4.0.0,>=3.2.0 in c:\\users\\saisujith kandagatla\\anaconda3\\lib\\site-packages (from spacy) (3.3.0)\n",
      "Requirement already satisfied: tqdm<5.0.0,>=4.38.0 in c:\\users\\saisujith kandagatla\\anaconda3\\lib\\site-packages (from spacy) (4.59.0)\n",
      "Requirement already satisfied: murmurhash<1.1.0,>=0.28.0 in c:\\users\\saisujith kandagatla\\anaconda3\\lib\\site-packages (from spacy) (1.0.6)\n",
      "Requirement already satisfied: cymem<2.1.0,>=2.0.2 in c:\\users\\saisujith kandagatla\\anaconda3\\lib\\site-packages (from spacy) (2.0.6)\n",
      "Requirement already satisfied: spacy-loggers<2.0.0,>=1.0.0 in c:\\users\\saisujith kandagatla\\anaconda3\\lib\\site-packages (from spacy) (1.0.2)\n",
      "Requirement already satisfied: jinja2 in c:\\users\\saisujith kandagatla\\anaconda3\\lib\\site-packages (from spacy) (2.11.3)\n",
      "Requirement already satisfied: blis<0.8.0,>=0.4.0 in c:\\users\\saisujith kandagatla\\anaconda3\\lib\\site-packages (from spacy) (0.7.7)\n",
      "Requirement already satisfied: spacy-legacy<3.1.0,>=3.0.8 in c:\\users\\saisujith kandagatla\\anaconda3\\lib\\site-packages (from spacy) (3.0.9)\n",
      "Requirement already satisfied: wasabi<1.1.0,>=0.8.1 in c:\\users\\saisujith kandagatla\\anaconda3\\lib\\site-packages (from spacy) (0.9.1)\n",
      "Requirement already satisfied: numpy>=1.15.0 in c:\\users\\saisujith kandagatla\\anaconda3\\lib\\site-packages (from spacy) (1.20.1)\n",
      "Requirement already satisfied: thinc<8.1.0,>=8.0.12 in c:\\users\\saisujith kandagatla\\anaconda3\\lib\\site-packages (from spacy) (8.0.15)\n",
      "Requirement already satisfied: typer<0.5.0,>=0.3.0 in c:\\users\\saisujith kandagatla\\anaconda3\\lib\\site-packages (from spacy) (0.4.1)\n",
      "Requirement already satisfied: pydantic!=1.8,!=1.8.1,<1.9.0,>=1.7.4 in c:\\users\\saisujith kandagatla\\anaconda3\\lib\\site-packages (from spacy) (1.8.2)\n",
      "Requirement already satisfied: preshed<3.1.0,>=3.0.2 in c:\\users\\saisujith kandagatla\\anaconda3\\lib\\site-packages (from spacy) (3.0.6)\n",
      "Requirement already satisfied: click<8.1.0 in c:\\users\\saisujith kandagatla\\anaconda3\\lib\\site-packages (from spacy) (7.1.2)\n",
      "Requirement already satisfied: packaging>=20.0 in c:\\users\\saisujith kandagatla\\anaconda3\\lib\\site-packages (from spacy) (20.9)\n",
      "Requirement already satisfied: catalogue<2.1.0,>=2.0.6 in c:\\users\\saisujith kandagatla\\anaconda3\\lib\\site-packages (from spacy) (2.0.7)\n",
      "Requirement already satisfied: pathy>=0.3.5 in c:\\users\\saisujith kandagatla\\anaconda3\\lib\\site-packages (from spacy) (0.6.1)\n",
      "Requirement already satisfied: pyparsing>=2.0.2 in c:\\users\\saisujith kandagatla\\anaconda3\\lib\\site-packages (from packaging>=20.0->spacy) (2.4.7)\n",
      "Requirement already satisfied: smart-open<6.0.0,>=5.0.0 in c:\\users\\saisujith kandagatla\\anaconda3\\lib\\site-packages (from pathy>=0.3.5->spacy) (5.2.1)\n",
      "Requirement already satisfied: typing-extensions>=3.7.4.3 in c:\\users\\saisujith kandagatla\\anaconda3\\lib\\site-packages (from pydantic!=1.8,!=1.8.1,<1.9.0,>=1.7.4->spacy) (3.7.4.3)\n",
      "Requirement already satisfied: chardet<5,>=3.0.2 in c:\\users\\saisujith kandagatla\\anaconda3\\lib\\site-packages (from requests<3.0.0,>=2.13.0->spacy) (4.0.0)\n",
      "Requirement already satisfied: idna<3,>=2.5 in c:\\users\\saisujith kandagatla\\anaconda3\\lib\\site-packages (from requests<3.0.0,>=2.13.0->spacy) (2.10)\n",
      "Requirement already satisfied: certifi>=2017.4.17 in c:\\users\\saisujith kandagatla\\anaconda3\\lib\\site-packages (from requests<3.0.0,>=2.13.0->spacy) (2020.12.5)\n",
      "Requirement already satisfied: urllib3<1.27,>=1.21.1 in c:\\users\\saisujith kandagatla\\anaconda3\\lib\\site-packages (from requests<3.0.0,>=2.13.0->spacy) (1.26.4)\n",
      "Requirement already satisfied: MarkupSafe>=0.23 in c:\\users\\saisujith kandagatla\\anaconda3\\lib\\site-packages (from jinja2->spacy) (1.1.1)\n"
     ]
    }
   ],
   "source": [
    "!pip install spacy"
   ]
  },
  {
   "cell_type": "code",
   "execution_count": 2,
   "id": "aca5b545",
   "metadata": {},
   "outputs": [],
   "source": [
    "try:\n",
    "    import spacy\n",
    "    import json\n",
    "except Exception as e:\n",
    "    print(e)\n",
    "    \n",
    "\n",
    "class EntityGenerator(object):\n",
    "    \n",
    "    _slots__ = ['text']\n",
    "    \n",
    "    def __init__(self, text=None):\n",
    "        self.text = text\n",
    "        \n",
    "    def get(self):\n",
    "        \"\"\"\n",
    "        Return a Json\n",
    "        \"\"\"\n",
    "        nlp = spacy.load(\"en_core_web_sm\")\n",
    "        doc = nlp(self.text)\n",
    "        text = [ent.text for ent in doc.ents]\n",
    "        entity = [ent.label_ for ent in doc.ents]\n",
    "    \n",
    "        from collections import Counter\n",
    "        import json\n",
    "\n",
    "        data = Counter(zip(entity))\n",
    "        unique_entity = list(data.keys())\n",
    "        unique_entity = [x[0] for x in unique_entity]\n",
    "\n",
    "        d = {}\n",
    "        for val in unique_entity:\n",
    "            d[val] = []\n",
    "\n",
    "        for key,val in dict(zip(text, entity)).items():\n",
    "            if val in unique_entity:\n",
    "                d[val].append(key)\n",
    "        return d"
   ]
  },
  {
   "cell_type": "code",
   "execution_count": 3,
   "id": "2d84fdbc",
   "metadata": {},
   "outputs": [],
   "source": [
    "try:\n",
    "    import PyPDF2\n",
    "    import requests\n",
    "    import json\n",
    "except Exception:\n",
    "    pass\n",
    "\n",
    "class Resume(object):\n",
    "    def __init__(self, filename=None):\n",
    "        self.filename = filename\n",
    "        \n",
    "    def get(self):\n",
    "        \"\"\"\n",
    "        \n",
    "        \"\"\"\n",
    "        fFileObj = open(self.filename, 'rb')\n",
    "        pdfReader = PyPDF2.PdfFileReader(fFileObj)\n",
    "        pageObj = pdfReader.getPage(0)\n",
    "        print(\"Total Pages : {} \".format(pdfReader.numPages))\n",
    "\n",
    "        resume = pageObj.extractText()\n",
    "        return resume"
   ]
  },
  {
   "cell_type": "code",
   "execution_count": 4,
   "id": "eaa7683b",
   "metadata": {},
   "outputs": [
    {
     "name": "stdout",
     "output_type": "stream",
     "text": [
      "Total Pages : 1 \n"
     ]
    }
   ],
   "source": [
    "resume = Resume(filename=\"Saisujith_resume.pdf\")\n",
    "response_news = resume.get()"
   ]
  },
  {
   "cell_type": "code",
   "execution_count": 5,
   "id": "f56d7dc4",
   "metadata": {},
   "outputs": [
    {
     "name": "stdout",
     "output_type": "stream",
     "text": [
      "{\n",
      "   \"ORG\": [\n",
      "      \"Last Updated\",\n",
      "      \"Hyderabad \\n \\n \\n \\nBachelor of Technology\",\n",
      "      \"Computer Science\",\n",
      "      \"DBMS\",\n",
      "      \"LINKS\",\n",
      "      \"Saisujith\",\n",
      "      \"CONTACT & LOCATION\",\n",
      "      \"SKILLS \\n \\nPROGRAMMING \\n \\n\\n \\nPython \\n \\n\\n \\n\",\n",
      "      \"Software\",\n",
      "      \"House Price Prediction\\n \\n \\n\\n \\nDeveloped\"\n",
      "   ],\n",
      "   \"DATE\": [\n",
      "      \"08th April 2023\",\n",
      "      \"year\"\n",
      "   ],\n",
      "   \"PERSON\": [\n",
      "      \"Sai Sujith Kandagatla\",\n",
      "      \"Algorithms\",\n",
      "      \"Resume Parser\\n \\n \\n\\n \\nDeveloped\",\n",
      "      \"Spacy\"\n",
      "   ],\n",
      "   \"CARDINAL\": [\n",
      "      \"7.5\",\n",
      "      \"2024\",\n",
      "      \"Github://\",\n",
      "      \"Leetcode://\",\n",
      "      \"Hackerrank://\",\n",
      "      \"200\",\n",
      "      \"5000\"\n",
      "   ],\n",
      "   \"GPE\": [\n",
      "      \"Hyderabad\",\n",
      "      \"house(sqft\"\n",
      "   ],\n",
      "   \"PRODUCT\": [\n",
      "      \"Eye\"\n",
      "   ]\n",
      "}\n"
     ]
    }
   ],
   "source": [
    "helper = EntityGenerator(text=response_news)\n",
    "response = helper.get()\n",
    "print(json.dumps(response , indent=3))"
   ]
  },
  {
   "cell_type": "code",
   "execution_count": null,
   "id": "8c1c16ca",
   "metadata": {},
   "outputs": [],
   "source": []
  }
 ],
 "metadata": {
  "kernelspec": {
   "display_name": "Python 3",
   "language": "python",
   "name": "python3"
  },
  "language_info": {
   "codemirror_mode": {
    "name": "ipython",
    "version": 3
   },
   "file_extension": ".py",
   "mimetype": "text/x-python",
   "name": "python",
   "nbconvert_exporter": "python",
   "pygments_lexer": "ipython3",
   "version": "3.8.8"
  }
 },
 "nbformat": 4,
 "nbformat_minor": 5
}
